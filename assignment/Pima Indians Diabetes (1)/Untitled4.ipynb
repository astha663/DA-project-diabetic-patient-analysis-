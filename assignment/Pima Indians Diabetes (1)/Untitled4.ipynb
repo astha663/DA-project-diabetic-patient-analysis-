{
 "cells": [
  {
   "cell_type": "code",
   "execution_count": null,
   "metadata": {},
   "outputs": [
    {
     "name": "stderr",
     "output_type": "stream",
     "text": [
      "C:\\ProgramData\\Anaconda3\\lib\\site-packages\\sklearn\\externals\\joblib\\__init__.py:15: DeprecationWarning: sklearn.externals.joblib is deprecated in 0.21 and will be removed in 0.23. Please import this functionality directly from joblib, which can be installed with: pip install joblib. If this warning is raised when loading pickled models, you may need to re-serialize those models with scikit-learn 0.21+.\n",
      "  warnings.warn(msg, category=DeprecationWarning)\n"
     ]
    },
    {
     "name": "stdout",
     "output_type": "stream",
     "text": [
      " * Serving Flask app \"__main__\" (lazy loading)\n",
      " * Environment: production\n",
      "   WARNING: This is a development server. Do not use it in a production deployment.\n",
      "   Use a production WSGI server instead.\n",
      " * Debug mode: off\n"
     ]
    },
    {
     "name": "stderr",
     "output_type": "stream",
     "text": [
      " * Running on http://127.0.0.1:5000/ (Press CTRL+C to quit)\n",
      "[2020-07-10 18:50:34,763] ERROR in app: Exception on / [GET]\n",
      "Traceback (most recent call last):\n",
      "  File \"C:\\ProgramData\\Anaconda3\\lib\\site-packages\\flask\\app.py\", line 2446, in wsgi_app\n",
      "    response = self.full_dispatch_request()\n",
      "  File \"C:\\ProgramData\\Anaconda3\\lib\\site-packages\\flask\\app.py\", line 1951, in full_dispatch_request\n",
      "    rv = self.handle_user_exception(e)\n",
      "  File \"C:\\ProgramData\\Anaconda3\\lib\\site-packages\\flask\\app.py\", line 1820, in handle_user_exception\n",
      "    reraise(exc_type, exc_value, tb)\n",
      "  File \"C:\\ProgramData\\Anaconda3\\lib\\site-packages\\flask\\_compat.py\", line 39, in reraise\n",
      "    raise value\n",
      "  File \"C:\\ProgramData\\Anaconda3\\lib\\site-packages\\flask\\app.py\", line 1949, in full_dispatch_request\n",
      "    rv = self.dispatch_request()\n",
      "  File \"C:\\ProgramData\\Anaconda3\\lib\\site-packages\\flask\\app.py\", line 1935, in dispatch_request\n",
      "    return self.view_functions[rule.endpoint](**req.view_args)\n",
      "  File \"<ipython-input-1-a73d450759c5>\", line 13, in hello_world\n",
      "    return render_template(\"index.html\")\n",
      "  File \"C:\\ProgramData\\Anaconda3\\lib\\site-packages\\flask\\templating.py\", line 138, in render_template\n",
      "    ctx.app.jinja_env.get_or_select_template(template_name_or_list),\n",
      "  File \"C:\\ProgramData\\Anaconda3\\lib\\site-packages\\jinja2\\environment.py\", line 869, in get_or_select_template\n",
      "    return self.get_template(template_name_or_list, parent, globals)\n",
      "  File \"C:\\ProgramData\\Anaconda3\\lib\\site-packages\\jinja2\\environment.py\", line 830, in get_template\n",
      "    return self._load_template(name, self.make_globals(globals))\n",
      "  File \"C:\\ProgramData\\Anaconda3\\lib\\site-packages\\jinja2\\environment.py\", line 804, in _load_template\n",
      "    template = self.loader.load(self, name, globals)\n",
      "  File \"C:\\ProgramData\\Anaconda3\\lib\\site-packages\\jinja2\\loaders.py\", line 113, in load\n",
      "    source, filename, uptodate = self.get_source(environment, name)\n",
      "  File \"C:\\ProgramData\\Anaconda3\\lib\\site-packages\\flask\\templating.py\", line 60, in get_source\n",
      "    return self._get_source_fast(environment, template)\n",
      "  File \"C:\\ProgramData\\Anaconda3\\lib\\site-packages\\flask\\templating.py\", line 89, in _get_source_fast\n",
      "    raise TemplateNotFound(template)\n",
      "jinja2.exceptions.TemplateNotFound: index.html\n",
      "127.0.0.1 - - [10/Jul/2020 18:50:35] \"GET / HTTP/1.1\" 500 -\n",
      "127.0.0.1 - - [10/Jul/2020 18:50:35] \"GET /favicon.ico HTTP/1.1\" 404 -\n"
     ]
    }
   ],
   "source": [
    "from flask import *\n",
    "from sklearn.externals import joblib\n",
    "import json\n",
    "import os\n",
    "import pandas as pd\n",
    "from pandas.io.json import json_normalize\n",
    "import numpy as np\n",
    "\n",
    "app = Flask(__name__)\n",
    "\n",
    "@app.route('/')\n",
    "def hello_world():\n",
    "    return render_template(\"index.html\")\n",
    "\n",
    "@app.route('/predict',methods=[\"post\"])\n",
    "def predict():\n",
    "    formvalues = request.form\n",
    "    path1 = \"/static/json/\"\n",
    "    with open(os.path.join(os.getcwd()+\"/\"+path1,'file.json'), 'w') as f:\n",
    "        json.dump(formvalues, f)\n",
    "    with open(os.path.join(os.getcwd()+\"/\"+path1,'file.json'), 'r') as f:\n",
    "        values = json.load(f)\n",
    "    df = pd.DataFrame(json_normalize(values))\n",
    "    model_path=os.getcwd()+\"/static/model/diabetes.pkl\"\n",
    "    model = joblib.load(model_path)\n",
    "    result = model.predict(df)\n",
    "    a=np.array(1)\n",
    "    if result.astype('int')==a.astype('int'):\n",
    "        msg=\"Success\"\n",
    "    else:\n",
    "        msg = \"Unsuccess\"\n",
    "    positive_percent= model.predict_proba(df)[0][1]*100\n",
    "    return render_template(\"index.html\",msg=msg,prob=positive_percent,**request.args)\n",
    "\n",
    "\n",
    "\n",
    "if __name__ == '__main__':\n",
    "    app.run()"
   ]
  },
  {
   "cell_type": "code",
   "execution_count": null,
   "metadata": {},
   "outputs": [],
   "source": []
  }
 ],
 "metadata": {
  "kernelspec": {
   "display_name": "Python 3",
   "language": "python",
   "name": "python3"
  },
  "language_info": {
   "codemirror_mode": {
    "name": "ipython",
    "version": 3
   },
   "file_extension": ".py",
   "mimetype": "text/x-python",
   "name": "python",
   "nbconvert_exporter": "python",
   "pygments_lexer": "ipython3",
   "version": "3.7.4"
  }
 },
 "nbformat": 4,
 "nbformat_minor": 2
}
